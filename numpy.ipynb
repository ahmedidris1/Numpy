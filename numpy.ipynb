{
 "cells": [
  {
   "cell_type": "code",
   "execution_count": 1,
   "id": "e433812c-8300-4c49-be27-105b9b2be987",
   "metadata": {},
   "outputs": [],
   "source": [
    "import numpy as np\n",
    "import matplotlib.pyplot as plt"
   ]
  },
  {
   "cell_type": "markdown",
   "id": "06fa5b05-5018-4a52-94da-c1947c32560f",
   "metadata": {},
   "source": [
    "### Creating Arrays    "
   ]
  },
  {
   "cell_type": "code",
   "execution_count": 2,
   "id": "e2e45d7d-abd5-4ecb-9e5a-8a4f1647c10f",
   "metadata": {},
   "outputs": [
    {
     "data": {
      "text/plain": [
       "array([3, 5, 7, 3])"
      ]
     },
     "execution_count": 2,
     "metadata": {},
     "output_type": "execute_result"
    }
   ],
   "source": [
    "# create an array from a list of integers, Syntax: np.array([int1, int2, ...])\n",
    "a1 = np.array([3, 5, 7, 3])\n",
    "a1"
   ]
  },
  {
   "cell_type": "code",
   "execution_count": 3,
   "id": "9f1b473e-ac2d-4b87-a289-cab6870e9a3a",
   "metadata": {},
   "outputs": [
    {
     "name": "stdout",
     "output_type": "stream",
     "text": [
      "[0. 0. 0. 0. 0.]\n"
     ]
    },
    {
     "data": {
      "text/plain": [
       "array([[0., 0., 0., 0., 0.],\n",
       "       [0., 0., 0., 0., 0.],\n",
       "       [0., 0., 0., 0., 0.]])"
      ]
     },
     "execution_count": 3,
     "metadata": {},
     "output_type": "execute_result"
    }
   ],
   "source": [
    "# create an array of zeros, Syntax: np.zeros((shape_of_the_array))\n",
    "a2 = np.zeros(5)\n",
    "print(a2)\n",
    "a2 = np.zeros((3,5))\n",
    "a2"
   ]
  },
  {
   "cell_type": "code",
   "execution_count": 4,
   "id": "cc5b3829-196d-4ccf-9211-6e9f107302bc",
   "metadata": {},
   "outputs": [
    {
     "name": "stdout",
     "output_type": "stream",
     "text": [
      "[1. 1. 1. 1. 1.]\n"
     ]
    },
    {
     "data": {
      "text/plain": [
       "array([[1., 1., 1., 1., 1.],\n",
       "       [1., 1., 1., 1., 1.],\n",
       "       [1., 1., 1., 1., 1.]])"
      ]
     },
     "execution_count": 4,
     "metadata": {},
     "output_type": "execute_result"
    }
   ],
   "source": [
    "a3 = np.ones(5)\n",
    "print(a3)\n",
    "a3 = np.ones((3,5))\n",
    "a3"
   ]
  },
  {
   "cell_type": "code",
   "execution_count": 5,
   "id": "4de2f4e3-4f8d-43c0-be51-2f499cab5b9a",
   "metadata": {},
   "outputs": [
    {
     "name": "stdout",
     "output_type": "stream",
     "text": [
      "[0.84125734 0.58515633 0.52485263 0.81825736 0.72690034]\n"
     ]
    },
    {
     "data": {
      "text/plain": [
       "array([[0.6308202 , 0.76689099, 0.64380713, 0.93120206, 0.21809993],\n",
       "       [0.16481001, 0.55557285, 0.93126864, 0.77148766, 0.16758681],\n",
       "       [0.32176449, 0.26290408, 0.50221901, 0.02564093, 0.63736904]])"
      ]
     },
     "execution_count": 5,
     "metadata": {},
     "output_type": "execute_result"
    }
   ],
   "source": [
    "# np.random.random(size)\n",
    "a4 = np.random.random(5)\n",
    "print(a4)\n",
    "a4 = np.random.random((3,5))\n",
    "a4"
   ]
  },
  {
   "cell_type": "code",
   "execution_count": 6,
   "id": "b6a125e9-fb20-4fca-a32e-d5897226de79",
   "metadata": {},
   "outputs": [
    {
     "data": {
      "text/plain": [
       "array([3, 5, 2, 1, 4])"
      ]
     },
     "execution_count": 6,
     "metadata": {},
     "output_type": "execute_result"
    }
   ],
   "source": [
    "# np.random.randint(starting_val, endval, number_of_samples)\n",
    "# np.random.randint returns a number_of_samples sample between starting_val and ndval\n",
    "a5 = np.random.randint(1,6,5)\n",
    "a5"
   ]
  },
  {
   "cell_type": "code",
   "execution_count": 7,
   "id": "7015a921-e1e1-4bbf-b5b7-1abe6bd43ba5",
   "metadata": {},
   "outputs": [
    {
     "name": "stdout",
     "output_type": "stream",
     "text": [
      "[-0.62439801  2.05029857  0.03769156  0.33340743  0.90534629]\n"
     ]
    },
    {
     "data": {
      "text/plain": [
       "array([[ 0.01358562, -0.305277  ,  0.73845088,  0.72204379, -1.45304305],\n",
       "       [-1.24297985,  1.01442859,  0.40860533, -0.44305846, -1.90219388],\n",
       "       [-0.07796947, -0.67087939, -0.32424246,  0.85183484,  1.05736813]])"
      ]
     },
     "execution_count": 7,
     "metadata": {},
     "output_type": "execute_result"
    }
   ],
   "source": [
    "# np.random.randn(d1, d2, ..., dn)\n",
    "a6 = np.random.randn(5)\n",
    "print(a6)\n",
    "a6 = np.random.randn(3,5)\n",
    "a6"
   ]
  },
  {
   "cell_type": "code",
   "execution_count": 8,
   "id": "62989d21-90b5-4b3c-984d-29f4fbaaa4af",
   "metadata": {},
   "outputs": [
    {
     "data": {
      "text/plain": [
       "array([-1. , -0.5,  0. ,  0.5,  1. ])"
      ]
     },
     "execution_count": 8,
     "metadata": {},
     "output_type": "execute_result"
    }
   ],
   "source": [
    "# np.linspace(starting_val, endval, number_of_elements)\n",
    "# np.linspace returns a number_of_numbers number evenly spaced between starting_val and endval\n",
    "a7 = np.linspace(-1,1,5)\n",
    "a7"
   ]
  },
  {
   "cell_type": "code",
   "execution_count": 9,
   "id": "c6b6003d-c453-4a88-b2a9-3d00f2fcb5ff",
   "metadata": {},
   "outputs": [
    {
     "data": {
      "text/plain": [
       "array([1, 2, 3, 4, 5, 6, 7, 8, 9])"
      ]
     },
     "execution_count": 9,
     "metadata": {},
     "output_type": "execute_result"
    }
   ],
   "source": [
    "# np.arange(starting_val, endval, space_val)\n",
    "# np.arange returns an array starting at starting_val and ends at endval an between eah consecutive numbers a space_val difference.\n",
    "a8 = np.arange(1,10,1)\n",
    "a8"
   ]
  },
  {
   "cell_type": "markdown",
   "id": "54dcdf7c-7bc8-4f27-a088-8968ac396546",
   "metadata": {},
   "source": [
    "### Slicing and Indexing"
   ]
  },
  {
   "cell_type": "code",
   "execution_count": 10,
   "id": "07a2211b-7909-4dd2-b83d-ae8a368db06e",
   "metadata": {},
   "outputs": [
    {
     "name": "stdout",
     "output_type": "stream",
     "text": [
      "a[0]: 2\n",
      "a[1]: 4\n",
      "a[2]: 6\n",
      "a[3]: 8\n",
      "a[4]: 10\n"
     ]
    }
   ],
   "source": [
    "a = np.array([2, 4, 6, 8, 10])\n",
    "for i in range(len(a)):\n",
    "    print(f'a[{i}]: {a[i]}')"
   ]
  },
  {
   "cell_type": "code",
   "execution_count": 11,
   "id": "79c4c9e1-8f39-4c1a-ab0f-413f8bbcdee0",
   "metadata": {},
   "outputs": [
    {
     "data": {
      "text/plain": [
       "array([[-0.3109878 , -0.29529931,  2.32225019],\n",
       "       [-0.59418463,  0.28486068,  1.36820219]])"
      ]
     },
     "execution_count": 11,
     "metadata": {},
     "output_type": "execute_result"
    }
   ],
   "source": [
    "a = np.random.randn(2,3)\n",
    "a"
   ]
  },
  {
   "cell_type": "code",
   "execution_count": 12,
   "id": "f6305d26-a93c-4dda-afce-94827bb40ea6",
   "metadata": {},
   "outputs": [
    {
     "data": {
      "text/plain": [
       "0.2848606756315541"
      ]
     },
     "execution_count": 12,
     "metadata": {},
     "output_type": "execute_result"
    }
   ],
   "source": [
    "a[1,1]"
   ]
  },
  {
   "cell_type": "code",
   "execution_count": 13,
   "id": "168e533d-5ead-4f35-b37a-a74341ff4d2e",
   "metadata": {},
   "outputs": [
    {
     "name": "stdout",
     "output_type": "stream",
     "text": [
      "[-0.3109878  -0.59418463], [-0.29529931  0.28486068], [2.32225019 1.36820219]\n"
     ]
    }
   ],
   "source": [
    "# columns\n",
    "print(f'{a[:,0]}, {a[:,1]}, {a[:,2]}')"
   ]
  },
  {
   "cell_type": "code",
   "execution_count": 14,
   "id": "1ccaceee-7a4d-41d0-8991-a52943c6ffad",
   "metadata": {},
   "outputs": [
    {
     "name": "stdout",
     "output_type": "stream",
     "text": [
      "[-0.3109878  -0.29529931  2.32225019], [-0.59418463  0.28486068  1.36820219]\n"
     ]
    }
   ],
   "source": [
    "# rows\n",
    "print(f'{a[0,:]}, {a[1,:]}')"
   ]
  },
  {
   "cell_type": "code",
   "execution_count": 15,
   "id": "f76b90de-3cc9-4845-b2df-c626e880cbc5",
   "metadata": {},
   "outputs": [
    {
     "data": {
      "text/plain": [
       "array([[False, False,  True],\n",
       "       [False,  True,  True]])"
      ]
     },
     "execution_count": 15,
     "metadata": {},
     "output_type": "execute_result"
    }
   ],
   "source": [
    "# Boolean indexing\n",
    "a>.2"
   ]
  },
  {
   "cell_type": "code",
   "execution_count": 16,
   "id": "3906147c-b2bc-4ffc-8bb9-5fa9969a58e4",
   "metadata": {},
   "outputs": [
    {
     "data": {
      "text/plain": [
       "array([2.32225019, 0.28486068, 1.36820219])"
      ]
     },
     "execution_count": 16,
     "metadata": {},
     "output_type": "execute_result"
    }
   ],
   "source": [
    "# Boolean indexing\n",
    "a[a>.2]"
   ]
  },
  {
   "cell_type": "code",
   "execution_count": 17,
   "id": "6d2b754c-45e9-4743-9227-e936df152097",
   "metadata": {},
   "outputs": [],
   "source": [
    "names = np.array(['Jim', 'Luke', 'Josh', 'Pete']) "
   ]
  },
  {
   "cell_type": "code",
   "execution_count": 18,
   "id": "4a4f4641-251a-471f-9bc4-a7deb6187c37",
   "metadata": {},
   "outputs": [
    {
     "data": {
      "text/plain": [
       "array([ True, False,  True, False])"
      ]
     },
     "execution_count": 18,
     "metadata": {},
     "output_type": "execute_result"
    }
   ],
   "source": [
    "# apply a function on a np.array by using condition(np.vectorize(function)(np,array))\n",
    "first_letter_j = np.vectorize(lambda s:s[0])(names) == 'J'\n",
    "first_letter_j"
   ]
  },
  {
   "cell_type": "code",
   "execution_count": 19,
   "id": "00d7fcda-114d-434b-9d11-f4f45f5c86c9",
   "metadata": {},
   "outputs": [
    {
     "data": {
      "text/plain": [
       "array(['Jim', 'Josh'], dtype='<U4')"
      ]
     },
     "execution_count": 19,
     "metadata": {},
     "output_type": "execute_result"
    }
   ],
   "source": [
    "names[first_letter_j]"
   ]
  },
  {
   "cell_type": "markdown",
   "id": "2a5f5deb-8fb2-43f3-a5cf-d36fc3b0f4a3",
   "metadata": {
    "tags": []
   },
   "source": [
    "### Calculus / Statistical Functions"
   ]
  },
  {
   "cell_type": "markdown",
   "id": "bffcdfee-b76d-4688-8add-1e883752d8dc",
   "metadata": {},
   "source": [
    "$$x = \\mu + \\sigma z $$"
   ]
  },
  {
   "cell_type": "code",
   "execution_count": 20,
   "id": "e2f00b05-1960-4845-85bc-08712448258d",
   "metadata": {},
   "outputs": [],
   "source": [
    "norm = np.random.randn(10000)"
   ]
  },
  {
   "cell_type": "code",
   "execution_count": 21,
   "id": "676763d2-f12d-4912-8996-33db8fd87d7b",
   "metadata": {},
   "outputs": [
    {
     "data": {
      "text/plain": [
       "(array([1.000e+00, 2.000e+00, 6.000e+00, 1.800e+01, 2.200e+01, 6.700e+01,\n",
       "        9.800e+01, 1.790e+02, 2.500e+02, 3.860e+02, 5.110e+02, 6.570e+02,\n",
       "        7.880e+02, 9.630e+02, 9.390e+02, 1.024e+03, 9.370e+02, 8.200e+02,\n",
       "        6.660e+02, 5.690e+02, 3.980e+02, 2.850e+02, 1.770e+02, 9.400e+01,\n",
       "        6.800e+01, 3.700e+01, 2.200e+01, 1.100e+01, 1.000e+00, 4.000e+00]),\n",
       " array([-3.75708509, -3.50728944, -3.25749379, -3.00769815, -2.7579025 ,\n",
       "        -2.50810685, -2.2583112 , -2.00851556, -1.75871991, -1.50892426,\n",
       "        -1.25912861, -1.00933297, -0.75953732, -0.50974167, -0.25994602,\n",
       "        -0.01015038,  0.23964527,  0.48944092,  0.73923657,  0.98903221,\n",
       "         1.23882786,  1.48862351,  1.73841915,  1.9882148 ,  2.23801045,\n",
       "         2.4878061 ,  2.73760174,  2.98739739,  3.23719304,  3.48698869,\n",
       "         3.73678433]),\n",
       " <BarContainer object of 30 artists>)"
      ]
     },
     "execution_count": 21,
     "metadata": {},
     "output_type": "execute_result"
    },
    {
     "data": {
      "image/png": "[encoded data removed]",
      "text/plain": [
       "<Figure size 432x288 with 1 Axes>"
      ]
     },
     "metadata": {
      "needs_background": "light"
     },
     "output_type": "display_data"
    }
   ],
   "source": [
    "plt.hist(norm, bins=30)"
   ]
  },
  {
   "cell_type": "code",
   "execution_count": 22,
   "id": "5ac1dbbb-1c3b-4917-b5ba-4c6b2b3799a5",
   "metadata": {},
   "outputs": [
    {
     "data": {
      "text/plain": [
       "0.014224500959512446"
      ]
     },
     "execution_count": 22,
     "metadata": {},
     "output_type": "execute_result"
    }
   ],
   "source": [
    "norm.mean()"
   ]
  },
  {
   "cell_type": "code",
   "execution_count": 23,
   "id": "4bad6d80-16a5-453b-abe0-310424cbe46f",
   "metadata": {},
   "outputs": [
    {
     "data": {
      "text/plain": [
       "0.9997785305814426"
      ]
     },
     "execution_count": 23,
     "metadata": {},
     "output_type": "execute_result"
    }
   ],
   "source": [
    "norm.std()"
   ]
  },
  {
   "cell_type": "code",
   "execution_count": 24,
   "id": "2b978e8c-c06e-4df9-aaf4-ec7792f060b3",
   "metadata": {},
   "outputs": [],
   "source": [
    "norm2 = 5 + 2*norm"
   ]
  },
  {
   "cell_type": "code",
   "execution_count": 25,
   "id": "5c230955-f194-4198-b4a6-746dc49973d7",
   "metadata": {},
   "outputs": [
    {
     "data": {
      "text/plain": [
       "(array([1.000e+00, 2.000e+00, 6.000e+00, 1.800e+01, 2.200e+01, 6.700e+01,\n",
       "        9.800e+01, 1.790e+02, 2.500e+02, 3.860e+02, 5.110e+02, 6.570e+02,\n",
       "        7.880e+02, 9.630e+02, 9.390e+02, 1.024e+03, 9.370e+02, 8.200e+02,\n",
       "        6.660e+02, 5.690e+02, 3.980e+02, 2.850e+02, 1.770e+02, 9.400e+01,\n",
       "        6.800e+01, 3.700e+01, 2.200e+01, 1.100e+01, 1.000e+00, 4.000e+00]),\n",
       " array([-2.51417018, -2.01457888, -1.51498759, -1.01539629, -0.515805  ,\n",
       "        -0.0162137 ,  0.48337759,  0.98296889,  1.48256018,  1.98215148,\n",
       "         2.48174277,  2.98133407,  3.48092536,  3.98051666,  4.48010795,\n",
       "         4.97969925,  5.47929054,  5.97888184,  6.47847313,  6.97806443,\n",
       "         7.47765572,  7.97724701,  8.47683831,  8.9764296 ,  9.4760209 ,\n",
       "         9.97561219, 10.47520349, 10.97479478, 11.47438608, 11.97397737,\n",
       "        12.47356867]),\n",
       " <BarContainer object of 30 artists>)"
      ]
     },
     "execution_count": 25,
     "metadata": {},
     "output_type": "execute_result"
    },
    {
     "data": {
      "image/png": "[encoded data removed]",
      "text/plain": [
       "<Figure size 432x288 with 1 Axes>"
      ]
     },
     "metadata": {
      "needs_background": "light"
     },
     "output_type": "display_data"
    }
   ],
   "source": [
    "plt.hist(norm2, bins=30)"
   ]
  },
  {
   "cell_type": "code",
   "execution_count": 26,
   "id": "3341a19f-1745-4285-abd0-8ce5a7daeb2e",
   "metadata": {},
   "outputs": [
    {
     "data": {
      "text/plain": [
       "5.028449001919025"
      ]
     },
     "execution_count": 26,
     "metadata": {},
     "output_type": "execute_result"
    }
   ],
   "source": [
    "np.mean(norm2)"
   ]
  },
  {
   "cell_type": "code",
   "execution_count": 27,
   "id": "51fe84fa-60ee-4c1b-8a16-d42128c4d194",
   "metadata": {},
   "outputs": [
    {
     "data": {
      "text/plain": [
       "1.9995570611628852"
      ]
     },
     "execution_count": 27,
     "metadata": {},
     "output_type": "execute_result"
    }
   ],
   "source": [
    "norm2.std()"
   ]
  },
  {
   "cell_type": "code",
   "execution_count": 28,
   "id": "ce760fbe-e2f7-427d-9cef-d35bed5563df",
   "metadata": {},
   "outputs": [
    {
     "data": {
      "text/plain": [
       "6.726291395536133"
      ]
     },
     "execution_count": 28,
     "metadata": {},
     "output_type": "execute_result"
    }
   ],
   "source": [
    "np.percentile(norm2, 80)"
   ]
  },
  {
   "cell_type": "markdown",
   "id": "185ab3ec-fcdd-4bf1-8757-11a1119f0024",
   "metadata": {},
   "source": [
    "Let's take the derivative of the function:      \n",
    "$$ f(x) = \\frac{1}{x^2} sin(x) $$"
   ]
  },
  {
   "cell_type": "code",
   "execution_count": 29,
   "id": "f95bca59-645b-4137-b1b3-6215debafb39",
   "metadata": {},
   "outputs": [],
   "source": [
    "x = np.linspace(1, 10, 100)\n",
    "y = (1/x**2) * np.sin(x)"
   ]
  },
  {
   "cell_type": "code",
   "execution_count": 30,
   "id": "9bf663a2-abab-47ca-afdb-5b16974227bb",
   "metadata": {},
   "outputs": [
    {
     "data": {
      "text/plain": [
       "[<matplotlib.lines.Line2D at 0x7f8029877e50>]"
      ]
     },
     "execution_count": 30,
     "metadata": {},
     "output_type": "execute_result"
    },
    {
     "data": {
      "image/png": "[encoded data removed]",
      "text/plain": [
       "<Figure size 432x288 with 1 Axes>"
      ]
     },
     "metadata": {
      "needs_background": "light"
     },
     "output_type": "display_data"
    }
   ],
   "source": [
    "plt.plot(x,y)"
   ]
  },
  {
   "cell_type": "code",
   "execution_count": 31,
   "id": "8f9db766-e316-4e1c-ab0a-0ea410cf6ef7",
   "metadata": {},
   "outputs": [],
   "source": [
    "dydx = np.gradient(y,x)"
   ]
  },
  {
   "cell_type": "code",
   "execution_count": 32,
   "id": "12937c20-34f9-4b4b-b365-78f07aab99eb",
   "metadata": {},
   "outputs": [
    {
     "data": {
      "text/plain": [
       "<matplotlib.legend.Legend at 0x7f80297d9e50>"
      ]
     },
     "execution_count": 32,
     "metadata": {},
     "output_type": "execute_result"
    },
    {
     "data": {
      "image/png": "[encoded data removed]",
      "text/plain": [
       "<Figure size 432x288 with 1 Axes>"
      ]
     },
     "metadata": {
      "needs_background": "light"
     },
     "output_type": "display_data"
    }
   ],
   "source": [
    "plt.plot(x,y, label='f(x)')\n",
    "plt.plot(x,dydx, label='dydx')\n",
    "plt.legend()"
   ]
  },
  {
   "cell_type": "markdown",
   "id": "552129d3-0f32-4cb4-991f-c13d0f8cf1dd",
   "metadata": {},
   "source": [
    "$$ F(x) = \\int f(x)\\,dx $$      \n",
    "$$ F(x) = \\sum_{i=0}^{n-1} f(t_{i})(t_{i+1} - t_{i}) $$"
   ]
  },
  {
   "cell_type": "code",
   "execution_count": 33,
   "id": "9374b662-0ee0-4f5b-92b3-7fc8f3899844",
   "metadata": {},
   "outputs": [
    {
     "data": {
      "text/plain": [
       "array([0.07649736, 0.1442579 , 0.20448433, 0.25813208, 0.30597568,\n",
       "       0.34865441, 0.38670447, 0.42058214, 0.45068077, 0.47734356,\n",
       "       0.50087314, 0.52153899, 0.53958321, 0.55522502, 0.56866433,\n",
       "       0.58008456, 0.58965497, 0.59753247, 0.60386313, 0.6087834 ,\n",
       "       0.61242109, 0.61489623, 0.61632168, 0.61680376, 0.61644265,\n",
       "       0.61533281, 0.6135633 , 0.61121804, 0.60837603, 0.60511157,\n",
       "       0.60149442, 0.59758994, 0.59345921, 0.5891592 , 0.58474281,\n",
       "       0.58025901, 0.57575297, 0.57126608, 0.56683611, 0.56249727,\n",
       "       0.55828035, 0.55421275, 0.55031866, 0.54661911, 0.54313211,\n",
       "       0.53987276, 0.53685334, 0.53408347, 0.53157023, 0.52931824,\n",
       "       0.52732988, 0.52560532, 0.52414276, 0.52293849, 0.52198708,\n",
       "       0.52128148, 0.52081322, 0.52057249, 0.52054833, 0.52072874,\n",
       "       0.52110084, 0.52165099, 0.52236495, 0.52322799, 0.524225  ,\n",
       "       0.52534068, 0.52655958, 0.52786626, 0.52924541, 0.5306819 ,\n",
       "       0.53216092, 0.53366807, 0.53518942, 0.53671161, 0.5382219 ,\n",
       "       0.53970824, 0.54115933, 0.54256466, 0.54391458, 0.54520028,\n",
       "       0.54641385, 0.54754831, 0.54859759, 0.54955655, 0.55042099,\n",
       "       0.55118763, 0.5518541 , 0.55241892, 0.55288145, 0.55324192,\n",
       "       0.55350134, 0.55366148, 0.55372484, 0.55369457, 0.55357446,\n",
       "       0.55336886, 0.55308264, 0.55272113, 0.55229005, 0.55179549])"
      ]
     },
     "execution_count": 33,
     "metadata": {},
     "output_type": "execute_result"
    }
   ],
   "source": [
    "y_integration = np.cumsum(y) * (x[1] - x[0])\n",
    "y_integration"
   ]
  },
  {
   "cell_type": "code",
   "execution_count": 34,
   "id": "37c29e02-16bd-4d3d-8b24-04f3a3f76e81",
   "metadata": {},
   "outputs": [
    {
     "data": {
      "text/plain": [
       "<matplotlib.legend.Legend at 0x7f8029787eb0>"
      ]
     },
     "execution_count": 34,
     "metadata": {},
     "output_type": "execute_result"
    },
    {
     "data": {
      "image/png": "[encoded data removed]",
      "text/plain": [
       "<Figure size 432x288 with 1 Axes>"
      ]
     },
     "metadata": {
      "needs_background": "light"
     },
     "output_type": "display_data"
    }
   ],
   "source": [
    "plt.plot(x,y, label='f(x)')\n",
    "plt.plot(x,dydx, label='dydx')\n",
    "plt.plot(x,y_integration, label='F(x)')\n",
    "plt.legend()"
   ]
  },
  {
   "cell_type": "markdown",
   "id": "ced2208a-c824-449e-b707-ed3cea43f690",
   "metadata": {},
   "source": [
    "$$ y = e^{-x / 10} sin(x) $$"
   ]
  },
  {
   "cell_type": "code",
   "execution_count": 35,
   "id": "01a1adbd-9fb4-4a8d-a668-c070a2b2d554",
   "metadata": {},
   "outputs": [],
   "source": [
    "intervals_num = 10000\n",
    "x = np.linspace(0, 10, intervals_num+1)\n",
    "f = lambda x: np.exp(-x/10) * np.sin(x)"
   ]
  },
  {
   "cell_type": "code",
   "execution_count": 36,
   "id": "3d4d735f-8c27-4947-9b24-98bfc8660708",
   "metadata": {},
   "outputs": [
    {
     "data": {
      "text/plain": [
       "[<matplotlib.lines.Line2D at 0x7f80296e4ca0>]"
      ]
     },
     "execution_count": 36,
     "metadata": {},
     "output_type": "execute_result"
    },
    {
     "data": {
      "image/png": "[encoded data removed]",
      "text/plain": [
       "<Figure size 432x288 with 1 Axes>"
      ]
     },
     "metadata": {
      "needs_background": "light"
     },
     "output_type": "display_data"
    }
   ],
   "source": [
    "y = f(x)\n",
    "plt.plot(x,y)"
   ]
  },
  {
   "cell_type": "code",
   "execution_count": 37,
   "id": "e3867438-9d79-4253-8e73-8bf10cb5a388",
   "metadata": {},
   "outputs": [],
   "source": [
    "condition = (x>=4) * (x<=7)\n",
    "x_from_4_to_7 = x[condition]\n",
    "y_from_4_to_7 = f(x_from_4_to_7)"
   ]
  },
  {
   "cell_type": "code",
   "execution_count": 38,
   "id": "24b59873-dc32-471f-98b6-483c21872e52",
   "metadata": {},
   "outputs": [
    {
     "data": {
      "text/plain": [
       "[<matplotlib.lines.Line2D at 0x7f802964dfd0>]"
      ]
     },
     "execution_count": 38,
     "metadata": {},
     "output_type": "execute_result"
    },
    {
     "data": {
      "image/png": "[encoded data removed]",
      "text/plain": [
       "<Figure size 432x288 with 1 Axes>"
      ]
     },
     "metadata": {
      "needs_background": "light"
     },
     "output_type": "display_data"
    }
   ],
   "source": [
    "plt.plot(x_from_4_to_7, y_from_4_to_7)"
   ]
  },
  {
   "cell_type": "code",
   "execution_count": 39,
   "id": "8cb95e79-3206-4592-a3dc-e47083a9ec4f",
   "metadata": {},
   "outputs": [
    {
     "data": {
      "text/plain": [
       "-0.2956023068963138"
      ]
     },
     "execution_count": 39,
     "metadata": {},
     "output_type": "execute_result"
    }
   ],
   "source": [
    "y_from_4_to_7.mean()"
   ]
  },
  {
   "cell_type": "code",
   "execution_count": 40,
   "id": "a7466258-ab6c-43ea-b00f-e6ffdb9b8c02",
   "metadata": {},
   "outputs": [
    {
     "data": {
      "text/plain": [
       "0.31448753875085117"
      ]
     },
     "execution_count": 40,
     "metadata": {},
     "output_type": "execute_result"
    }
   ],
   "source": [
    "y_from_4_to_7.std()"
   ]
  },
  {
   "cell_type": "code",
   "execution_count": 41,
   "id": "039448b7-5993-430a-a1a2-0eb92cb816ae",
   "metadata": {},
   "outputs": [
    {
     "data": {
      "text/plain": [
       "0.06145551274590662"
      ]
     },
     "execution_count": 41,
     "metadata": {},
     "output_type": "execute_result"
    }
   ],
   "source": [
    "np.percentile(y_from_4_to_7, 80)"
   ]
  },
  {
   "cell_type": "code",
   "execution_count": 42,
   "id": "48212957-2563-45d4-aad9-ef112d4d7ad1",
   "metadata": {},
   "outputs": [],
   "source": [
    "df = np.gradient(y,x)"
   ]
  },
  {
   "cell_type": "code",
   "execution_count": 43,
   "id": "7fb08189-b717-46c2-b20a-4b32bc1bf373",
   "metadata": {},
   "outputs": [
    {
     "data": {
      "text/plain": [
       "<matplotlib.legend.Legend at 0x7f80295c27c0>"
      ]
     },
     "execution_count": 43,
     "metadata": {},
     "output_type": "execute_result"
    },
    {
     "data": {
      "image/png": "[encoded data removed]",
      "text/plain": [
       "<Figure size 432x288 with 1 Axes>"
      ]
     },
     "metadata": {
      "needs_background": "light"
     },
     "output_type": "display_data"
    }
   ],
   "source": [
    "plt.plot(x,y, label='f(x)')\n",
    "plt.plot(x,df, label='df/dx')\n",
    "plt.legend()"
   ]
  },
  {
   "cell_type": "code",
   "execution_count": 44,
   "id": "3f205f5a-9155-448e-be7a-454990a1727f",
   "metadata": {},
   "outputs": [],
   "source": [
    "consec = (df[:-1] * df[1:])"
   ]
  },
  {
   "cell_type": "code",
   "execution_count": 45,
   "id": "641d41d6-f06f-4496-afa3-ab1776149b2f",
   "metadata": {},
   "outputs": [],
   "source": [
    "condition = consec < 0"
   ]
  },
  {
   "cell_type": "code",
   "execution_count": 46,
   "id": "c17c91e6-e618-4245-a2e4-020b018ef224",
   "metadata": {},
   "outputs": [
    {
     "data": {
      "text/plain": [
       "array([1.472, 4.613, 7.755])"
      ]
     },
     "execution_count": 46,
     "metadata": {},
     "output_type": "execute_result"
    }
   ],
   "source": [
    "x[1:][condition]"
   ]
  },
  {
   "cell_type": "code",
   "execution_count": 47,
   "id": "1866aafd-0f0a-4017-a7ac-99db05f0d9d6",
   "metadata": {},
   "outputs": [
    {
     "name": "stdout",
     "output_type": "stream",
     "text": [
      "0.8589124207238551, -0.6273521597576615, 0.45821961460624777\n"
     ]
    }
   ],
   "source": [
    "print(f'{f(1.472)}, {f(4.613)}, {f(7.755)}')"
   ]
  },
  {
   "cell_type": "markdown",
   "id": "050fbd41-7561-4891-81cf-7b68b436d26f",
   "metadata": {},
   "source": [
    "### Find the sum of numbers from 1 to 10000, that are not divisible by 4 or 7."
   ]
  },
  {
   "cell_type": "code",
   "execution_count": 48,
   "id": "a1500ea4-1548-4dc4-98cb-b38e3e4afa6b",
   "metadata": {},
   "outputs": [],
   "source": [
    "v = np.arange(1,10001,1)"
   ]
  },
  {
   "cell_type": "code",
   "execution_count": 49,
   "id": "7252c900-1779-448e-8e23-ee933b1615ae",
   "metadata": {},
   "outputs": [],
   "source": [
    "condition = (v%4!=0) + (v%7!=0)"
   ]
  },
  {
   "cell_type": "code",
   "execution_count": 50,
   "id": "f5dbab20-7203-4da7-919f-b5064f2a35ac",
   "metadata": {},
   "outputs": [
    {
     "data": {
      "text/plain": [
       "48215716"
      ]
     },
     "execution_count": 50,
     "metadata": {},
     "output_type": "execute_result"
    }
   ],
   "source": [
    "v[condition].sum()"
   ]
  },
  {
   "cell_type": "markdown",
   "id": "b972d914-cc1a-481e-972b-4ac39c66155b",
   "metadata": {},
   "source": [
    "--------------------------------------------------------------------------------------------------------------------------------"
   ]
  },
  {
   "cell_type": "markdown",
   "id": "96498321-2a01-4068-9190-f412fa9dd86e",
   "metadata": {},
   "source": [
    "Consider the flower petal   $ \\quad r(\\theta) = 1 + \\frac{3}{4}sin(3\\theta)  \\quad for\\quad 0 \\leq \\theta \\geq 2\\pi $    \n",
    "Make a plot of $r(\\theta)$"
   ]
  },
  {
   "cell_type": "code",
   "execution_count": 51,
   "id": "5927e56c-a79e-41b4-b8a8-359dab7e5401",
   "metadata": {},
   "outputs": [],
   "source": [
    "theta = np.linspace(0, 2*np.pi, 1000)\n",
    "r = 1 + .75 * np.sin(3*theta)\n",
    "x = r * np.cos(theta)\n",
    "y = r * np.sin(theta)"
   ]
  },
  {
   "cell_type": "code",
   "execution_count": 52,
   "id": "6f76e897-6878-4bd1-bb1f-76c5ece14a7d",
   "metadata": {},
   "outputs": [
    {
     "data": {
      "text/plain": [
       "[<matplotlib.lines.Line2D at 0x7f8029548460>]"
      ]
     },
     "execution_count": 52,
     "metadata": {},
     "output_type": "execute_result"
    },
    {
     "data": {
      "image/png": "[encoded data removed]",
      "text/plain": [
       "<Figure size 432x288 with 1 Axes>"
      ]
     },
     "metadata": {
      "needs_background": "light"
     },
     "output_type": "display_data"
    }
   ],
   "source": [
    "plt.plot(x, y)"
   ]
  },
  {
   "cell_type": "markdown",
   "id": "cd471ab7-fe54-4b62-9813-475f7b634acd",
   "metadata": {},
   "source": [
    "Calculate the integral $ A = \\int_{0}^{2\\pi} \\frac{1}{2}r^2\\,d\\theta $ "
   ]
  },
  {
   "cell_type": "code",
   "execution_count": 53,
   "id": "2511345b-c8a4-4604-85f6-7e0cc987cd84",
   "metadata": {},
   "outputs": [
    {
     "data": {
      "text/plain": [
       "4.028310324802903"
      ]
     },
     "execution_count": 53,
     "metadata": {},
     "output_type": "execute_result"
    }
   ],
   "source": [
    "R = .5 * np.sum(r**2) * (theta[1]-theta[0])\n",
    "R"
   ]
  },
  {
   "cell_type": "code",
   "execution_count": 54,
   "id": "16882ddc-a164-41cb-b8ed-d70c51009f30",
   "metadata": {},
   "outputs": [
    {
     "data": {
      "text/plain": [
       "array([[4, 6, 4],\n",
       "       [1, 2, 2],\n",
       "       [6, 8, 7]])"
      ]
     },
     "execution_count": 54,
     "metadata": {},
     "output_type": "execute_result"
    }
   ],
   "source": [
    "a1 = np.array([[4,6,4],[1,2,2],[6,8,7]])\n",
    "a1"
   ]
  },
  {
   "cell_type": "code",
   "execution_count": 55,
   "id": "40f8a5c6-63d4-4d8d-96d4-ef8520f75dff",
   "metadata": {},
   "outputs": [
    {
     "data": {
      "text/plain": [
       "array([4, 1, 6])"
      ]
     },
     "execution_count": 55,
     "metadata": {},
     "output_type": "execute_result"
    }
   ],
   "source": [
    "# first column\n",
    "a1[:,0]"
   ]
  },
  {
   "cell_type": "markdown",
   "id": "19365184-c20d-4dd6-a547-6a627b4bec23",
   "metadata": {},
   "source": [
    "--------------------------------------------------------------------------------------------"
   ]
  },
  {
   "cell_type": "markdown",
   "id": "41361871-1eee-46b5-97c4-9014ff5fedd7",
   "metadata": {},
   "source": [
    "### Matrix Operations"
   ]
  },
  {
   "cell_type": "code",
   "execution_count": 56,
   "id": "5d131489-4e04-434d-8842-714dd89e9f55",
   "metadata": {},
   "outputs": [],
   "source": [
    "A = np.array([[3,2,1],[5,-5,4],[6,0,1]])\n",
    "b1 = np.array([1,2,3])\n",
    "b2 = np.array([-1,2,-5])"
   ]
  },
  {
   "cell_type": "code",
   "execution_count": 57,
   "id": "44a60013-44fe-40bb-b952-1af5e85edc95",
   "metadata": {},
   "outputs": [
    {
     "data": {
      "text/plain": [
       "array([[ 3,  2,  1],\n",
       "       [ 5, -5,  4],\n",
       "       [ 6,  0,  1]])"
      ]
     },
     "execution_count": 57,
     "metadata": {},
     "output_type": "execute_result"
    }
   ],
   "source": [
    "A"
   ]
  },
  {
   "cell_type": "code",
   "execution_count": 58,
   "id": "3fe6eccd-03bf-4953-8eb0-811bfda696c1",
   "metadata": {},
   "outputs": [
    {
     "data": {
      "text/plain": [
       "array([1, 2, 3])"
      ]
     },
     "execution_count": 58,
     "metadata": {},
     "output_type": "execute_result"
    }
   ],
   "source": [
    "b1"
   ]
  },
  {
   "cell_type": "code",
   "execution_count": 59,
   "id": "571c9252-1f91-4a25-9a9f-fb21421840fc",
   "metadata": {},
   "outputs": [
    {
     "data": {
      "text/plain": [
       "array([-1,  2, -5])"
      ]
     },
     "execution_count": 59,
     "metadata": {},
     "output_type": "execute_result"
    }
   ],
   "source": [
    "b2"
   ]
  },
  {
   "cell_type": "code",
   "execution_count": 60,
   "id": "c1df2a25-5742-47d5-b303-9cad823c4473",
   "metadata": {},
   "outputs": [
    {
     "data": {
      "text/plain": [
       "array([10,  7,  9])"
      ]
     },
     "execution_count": 60,
     "metadata": {},
     "output_type": "execute_result"
    }
   ],
   "source": [
    "A@b1"
   ]
  },
  {
   "cell_type": "code",
   "execution_count": 61,
   "id": "8db2599c-41d6-4368-a02c-7c8815fff94c",
   "metadata": {},
   "outputs": [
    {
     "data": {
      "text/plain": [
       "array([[ 3,  5,  6],\n",
       "       [ 2, -5,  0],\n",
       "       [ 1,  4,  1]])"
      ]
     },
     "execution_count": 61,
     "metadata": {},
     "output_type": "execute_result"
    }
   ],
   "source": [
    "A.T"
   ]
  },
  {
   "cell_type": "code",
   "execution_count": 62,
   "id": "ad6b2679-d498-45a3-84e9-ca381ef2d42e",
   "metadata": {},
   "outputs": [
    {
     "data": {
      "text/plain": [
       "-12"
      ]
     },
     "execution_count": 62,
     "metadata": {},
     "output_type": "execute_result"
    }
   ],
   "source": [
    "np.dot(b1,b2)"
   ]
  },
  {
   "cell_type": "code",
   "execution_count": 63,
   "id": "f220a998-42ec-42bc-a4f6-d581200ab033",
   "metadata": {},
   "outputs": [
    {
     "data": {
      "text/plain": [
       "array([-16,   2,   4])"
      ]
     },
     "execution_count": 63,
     "metadata": {},
     "output_type": "execute_result"
    }
   ],
   "source": [
    "np.cross(b1,b2)"
   ]
  },
  {
   "cell_type": "markdown",
   "id": "256e3f8d-6eda-411f-977d-e170cd66abe1",
   "metadata": {},
   "source": [
    "### System of Equations     \n",
    "$ 3x + 2y + z = 4 $    \n",
    "$ 5x - 5y + 4z = 3 $     \n",
    "$ 6x + z = 0 $"
   ]
  },
  {
   "cell_type": "code",
   "execution_count": 64,
   "id": "6a0bafdf-8c1d-4e57-8cc3-cfa39976f66b",
   "metadata": {},
   "outputs": [],
   "source": [
    "A = np.array([[3,2,1],[5,-5,4],[6,0,1]])\n",
    "b = np.array([4,3,0])"
   ]
  },
  {
   "cell_type": "code",
   "execution_count": 65,
   "id": "4e95dc08-f3ae-4885-a5b5-98c84e0a2711",
   "metadata": {},
   "outputs": [
    {
     "data": {
      "text/plain": [
       "array([-0.49056604,  1.26415094,  2.94339623])"
      ]
     },
     "execution_count": 65,
     "metadata": {},
     "output_type": "execute_result"
    }
   ],
   "source": [
    "np.linalg.solve(A,b)"
   ]
  },
  {
   "cell_type": "markdown",
   "id": "3a9c274d-999a-4cff-a7bf-549801d323a9",
   "metadata": {},
   "source": [
    "#### Eigen Vectors and Eigen Values"
   ]
  },
  {
   "cell_type": "code",
   "execution_count": 66,
   "id": "5b8a6a67-9be5-4eff-9e90-d8517d56ba5b",
   "metadata": {},
   "outputs": [],
   "source": [
    "A = np.array([[4,2,2],[2,4,2],[2,2,4]])"
   ]
  },
  {
   "cell_type": "code",
   "execution_count": 67,
   "id": "9c1a4619-2d1d-409a-bc1e-593ff1fd8531",
   "metadata": {},
   "outputs": [],
   "source": [
    "eig_vals, eig_vecs = np.linalg.eig(A)"
   ]
  },
  {
   "cell_type": "code",
   "execution_count": 68,
   "id": "70b50bc8-daa8-43f8-9a52-08a71081c860",
   "metadata": {},
   "outputs": [
    {
     "data": {
      "text/plain": [
       "array([2., 8., 2.])"
      ]
     },
     "execution_count": 68,
     "metadata": {},
     "output_type": "execute_result"
    }
   ],
   "source": [
    "eig_vals"
   ]
  },
  {
   "cell_type": "code",
   "execution_count": 69,
   "id": "af6c239d-8359-4526-b95e-25deeda6419e",
   "metadata": {},
   "outputs": [
    {
     "data": {
      "text/plain": [
       "array([[-0.81649658,  0.57735027, -0.32444284],\n",
       "       [ 0.40824829,  0.57735027, -0.48666426],\n",
       "       [ 0.40824829,  0.57735027,  0.81110711]])"
      ]
     },
     "execution_count": 69,
     "metadata": {},
     "output_type": "execute_result"
    }
   ],
   "source": [
    "eig_vecs"
   ]
  },
  {
   "cell_type": "code",
   "execution_count": 70,
   "id": "6654673b-5826-4568-bd79-e13bb7dfd365",
   "metadata": {},
   "outputs": [
    {
     "data": {
      "text/plain": [
       "array([[-0.81649658,  0.40824829,  0.40824829],\n",
       "       [ 0.57735027,  0.57735027,  0.57735027],\n",
       "       [-0.32444284, -0.48666426,  0.81110711]])"
      ]
     },
     "execution_count": 70,
     "metadata": {},
     "output_type": "execute_result"
    }
   ],
   "source": [
    "eig_vecs.T"
   ]
  },
  {
   "cell_type": "code",
   "execution_count": 71,
   "id": "d41e139e-44e1-4d09-b8f8-52216799a77a",
   "metadata": {},
   "outputs": [
    {
     "data": {
      "text/plain": [
       "array([-1.63299316,  0.81649658,  0.81649658])"
      ]
     },
     "execution_count": 71,
     "metadata": {},
     "output_type": "execute_result"
    }
   ],
   "source": [
    "A@eig_vecs.T[0]"
   ]
  },
  {
   "cell_type": "markdown",
   "id": "eaa24758-55f0-4cd2-8810-382db77b4934",
   "metadata": {},
   "source": [
    "$ Av = \\lambda v $"
   ]
  },
  {
   "cell_type": "code",
   "execution_count": 72,
   "id": "7c243e4e-6677-403f-8131-b9f3f28dcb6b",
   "metadata": {},
   "outputs": [
    {
     "data": {
      "text/plain": [
       "array([-1.63299316,  0.81649658,  0.81649658])"
      ]
     },
     "execution_count": 72,
     "metadata": {},
     "output_type": "execute_result"
    }
   ],
   "source": [
    "eig_vecs.T[0]*eig_vals[0]"
   ]
  },
  {
   "cell_type": "markdown",
   "id": "aa38d885-d69b-4ba2-8ccf-65c1a784dbc7",
   "metadata": {},
   "source": [
    "-----------------------------------------------------------------------------------------------------"
   ]
  },
  {
   "cell_type": "markdown",
   "id": "721d4810-0f9b-4f9d-b440-31e2f13a8ba9",
   "metadata": {
    "tags": []
   },
   "source": [
    "$ 3V_1 + 2V_2 + 3V_3 + 10V_4 = 4$     \n",
    "\n",
    "$ 2V_1 - 2V_2 + 5V_3 + 8V_4 = 1$      \n",
    "\n",
    "$ 3V_1 + 3V_2 + 4V_3 + 9V_4 = 3$     \n",
    "\n",
    "$ 3V_1 + 4V_2 - 3V_3 - 7V_4 = 2$"
   ]
  },
  {
   "cell_type": "code",
   "execution_count": 73,
   "id": "e2f0f792-96e9-4993-bde7-d6af09892958",
   "metadata": {},
   "outputs": [],
   "source": [
    "A = np.array([[3,2,3,10],[2,-2,5,8],[3,3,4,9],[3,4,-3,-7]])"
   ]
  },
  {
   "cell_type": "code",
   "execution_count": 74,
   "id": "f16ca10e-2f0e-4516-99b5-1038b9436dfd",
   "metadata": {},
   "outputs": [
    {
     "data": {
      "text/plain": [
       "array([[ 3,  2,  3, 10],\n",
       "       [ 2, -2,  5,  8],\n",
       "       [ 3,  3,  4,  9],\n",
       "       [ 3,  4, -3, -7]])"
      ]
     },
     "execution_count": 74,
     "metadata": {},
     "output_type": "execute_result"
    }
   ],
   "source": [
    "A"
   ]
  },
  {
   "cell_type": "code",
   "execution_count": 75,
   "id": "156edb48-9ee7-442a-b3c4-4e4bfda614a1",
   "metadata": {},
   "outputs": [],
   "source": [
    "b = np.array([4,1,3,2])"
   ]
  },
  {
   "cell_type": "code",
   "execution_count": 76,
   "id": "87f73ca2-c723-4e72-a6d5-5e36ee60f634",
   "metadata": {},
   "outputs": [
    {
     "data": {
      "text/plain": [
       "array([4, 1, 3, 2])"
      ]
     },
     "execution_count": 76,
     "metadata": {},
     "output_type": "execute_result"
    }
   ],
   "source": [
    "b"
   ]
  },
  {
   "cell_type": "code",
   "execution_count": 77,
   "id": "351a7e37-01b1-439e-92df-85f9765fbdab",
   "metadata": {},
   "outputs": [
    {
     "data": {
      "text/plain": [
       "array([ 0.78378378,  0.03603604, -0.67567568,  0.36036036])"
      ]
     },
     "execution_count": 77,
     "metadata": {},
     "output_type": "execute_result"
    }
   ],
   "source": [
    "np.linalg.solve(A,b)"
   ]
  },
  {
   "cell_type": "code",
   "execution_count": 78,
   "id": "b8eab4d1-ea52-4e6f-a3d2-32d1b715516a",
   "metadata": {},
   "outputs": [],
   "source": [
    "import scipy"
   ]
  },
  {
   "cell_type": "code",
   "execution_count": null,
   "id": "61a21af4-034a-4644-93fa-32ed059721ba",
   "metadata": {},
   "outputs": [],
   "source": []
  }
 ],
 "metadata": {
  "kernelspec": {
   "display_name": "Python 3 (ipykernel)",
   "language": "python",
   "name": "python3"
  },
  "language_info": {
   "codemirror_mode": {
    "name": "ipython",
    "version": 3
   },
   "file_extension": ".py",
   "mimetype": "text/x-python",
   "name": "python",
   "nbconvert_exporter": "python",
   "pygments_lexer": "ipython3",
   "version": "3.8.10"
  }
 },
 "nbformat": 4,
 "nbformat_minor": 5
}
